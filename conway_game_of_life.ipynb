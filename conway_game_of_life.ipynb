{
 "cells": [
  {
   "cell_type": "markdown",
   "metadata": {},
   "source": [
    "*Conways Game of Life*"
   ]
  },
  {
   "cell_type": "code",
   "execution_count": 646,
   "metadata": {},
   "outputs": [],
   "source": [
    "# import libraries\n",
    "import numpy as np\n",
    "import matplotlib.pyplot as plt\n",
    "import random\n",
    "import time"
   ]
  },
  {
   "cell_type": "code",
   "execution_count": 647,
   "metadata": {},
   "outputs": [],
   "source": [
    "# setup hyperparameters\n",
    "n=20   # grid size"
   ]
  },
  {
   "cell_type": "code",
   "execution_count": 648,
   "metadata": {},
   "outputs": [],
   "source": [
    "def Neighbour(Grid, i, j):\n",
    "    D = 0\n",
    "    try:\n",
    "        D += Grid[i-1,j]\n",
    "    except IndexError:\n",
    "        pass\n",
    "    try:\n",
    "        D += Grid[i+1,j]\n",
    "    except IndexError:\n",
    "        pass\n",
    "    try:\n",
    "        D += Grid[i,j-1]\n",
    "    except IndexError:\n",
    "        pass\n",
    "    try:\n",
    "        D += Grid[i,j+1]\n",
    "    except IndexError:\n",
    "        pass\n",
    "    try:\n",
    "        D += Grid[i+1,j+1]\n",
    "    except IndexError:\n",
    "        pass\n",
    "    try:\n",
    "        D += Grid[i-1,j+1]\n",
    "    except IndexError:\n",
    "        pass\n",
    "    try:\n",
    "        D += Grid[i+1,j-1]\n",
    "    except IndexError:\n",
    "        pass\n",
    "    try:\n",
    "        D += Grid[i-1,j-1]\n",
    "    except IndexError:\n",
    "        pass\n",
    "    return int(D)"
   ]
  },
  {
   "cell_type": "code",
   "execution_count": 649,
   "metadata": {},
   "outputs": [],
   "source": [
    "def Grow(Grid):\n",
    "    ResGrid = np.zeros((n,n))\n",
    "    for i in range(n):\n",
    "        for j in range(n):\n",
    "            D = Neighbour(Grid, i, j)\n",
    "            if Grid[i, j]==0 :\n",
    "                if D==3: ResGrid[i, j] = 1\n",
    "            else :\n",
    "                if D==2 or D==3: ResGrid[i, j] = 1\n",
    "    return ResGrid"
   ]
  },
  {
   "cell_type": "code",
   "execution_count": 650,
   "metadata": {},
   "outputs": [],
   "source": [
    "# setup initial conditions\n",
    "Grid = np.zeros((n,n))\n",
    "for i in range(n):\n",
    "    for j in range(n):\n",
    "        Grid[i,j] = random.choice([0,1])"
   ]
  },
  {
   "cell_type": "code",
   "execution_count": 675,
   "metadata": {},
   "outputs": [
    {
     "data": {
      "image/png": "[encoded data removed]",
      "text/plain": [
       "<Figure size 640x480 with 1 Axes>"
      ]
     },
     "metadata": {},
     "output_type": "display_data"
    }
   ],
   "source": [
    "# updation process\n",
    "plt.imshow(Grid, cmap='gray')\n",
    "Grid = Grow(Grid)"
   ]
  },
  {
   "cell_type": "code",
   "execution_count": null,
   "metadata": {},
   "outputs": [],
   "source": []
  }
 ],
 "metadata": {
  "kernelspec": {
   "display_name": "Python 3",
   "language": "python",
   "name": "python3"
  },
  "language_info": {
   "codemirror_mode": {
    "name": "ipython",
    "version": 3
   },
   "file_extension": ".py",
   "mimetype": "text/x-python",
   "name": "python",
   "nbconvert_exporter": "python",
   "pygments_lexer": "ipython3",
   "version": "3.11.4"
  }
 },
 "nbformat": 4,
 "nbformat_minor": 2
}
